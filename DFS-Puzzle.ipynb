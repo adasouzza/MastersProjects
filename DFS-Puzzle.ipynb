{
 "cells": [
  {
   "cell_type": "markdown",
   "metadata": {},
   "source": [
    "# DFS"
   ]
  },
  {
   "cell_type": "markdown",
   "metadata": {},
   "source": [
    "## Função de Direções\n",
    "* Função Play -> direções do quebra-cabeças\n",
    "* Setando estados iniciais e finais"
   ]
  },
  {
   "cell_type": "code",
   "execution_count": 14,
   "metadata": {},
   "outputs": [],
   "source": [
    "import copy\n",
    "import time"
   ]
  },
  {
   "cell_type": "code",
   "execution_count": 15,
   "metadata": {},
   "outputs": [],
   "source": [
    "initialState1 = [[-1,1,2], [7,8,3], [6,5,4]]\n",
    "finalState1 = [[1,2,3], [8,-1,4], [7,6,5]]\n",
    "t0 = time.time()\n",
    "\n",
    "def play(puzzle, direction):\n",
    "  if direction == \"cima\":\n",
    "    for i in range(3):\n",
    "      for j in range(3):\n",
    "        if(puzzle[i][j]==-1):\n",
    "          if i!=0:\n",
    "            puzzle[i][j] = puzzle[i-1][j]\n",
    "            puzzle[i-1][j] = -1\n",
    "          return puzzle\n",
    "\n",
    "  if direction==\"baixo\":\n",
    "    for i in range(3):\n",
    "      for j in range(3):\n",
    "        if(puzzle[i][j]==-1):\n",
    "          if i!=2:\n",
    "            puzzle[i][j] = puzzle[i+1][j]\n",
    "            puzzle[i+1][j] = -1\n",
    "          return puzzle\n",
    "\n",
    "  if direction==\"esquerda\":\n",
    "    for i in range(3):\n",
    "      for j in range(3):\n",
    "        if(puzzle[i][j] == -1):\n",
    "          if j!=0:\n",
    "            puzzle[i][j] = puzzle[i][j-1]\n",
    "            puzzle[i][j-1] = -1\n",
    "          return puzzle\n",
    "\n",
    "  if direction == \"direita\":\n",
    "    for i in range(3):\n",
    "      for j in range(3):\n",
    "        if(puzzle[i][j] == -1):\n",
    "          if j!=2:\n",
    "            puzzle[i][j] = puzzle[i][j+1]\n",
    "            puzzle[i][j+1] = -1\n",
    "          return puzzle"
   ]
  },
  {
   "cell_type": "markdown",
   "metadata": {},
   "source": [
    "## Função BFS"
   ]
  },
  {
   "cell_type": "code",
   "execution_count": 16,
   "metadata": {},
   "outputs": [
    {
     "name": "stdout",
     "output_type": "stream",
     "text": [
      "start\n",
      "direita\n",
      "direita\n",
      "baixo\n",
      "baixo\n",
      "esquerda\n",
      "esquerda\n",
      "cima\n",
      "direita\n",
      "Encontrado após: 8 Iterações\n",
      "Tempo decorrido: 0.961374044418335\n",
      "------\n"
     ]
    }
   ],
   "source": [
    "def buscaProfundidade():\n",
    "  items = []\n",
    "  passos = 0\n",
    "  initialFormatted = [initialState1,\"start\"]\n",
    "  items.append(initialFormatted)\n",
    "  \n",
    "  while(True):\n",
    "    passos += 1\n",
    "    puzzle = items.pop(0)\n",
    "    print(puzzle[1])\n",
    "    \n",
    "    if(puzzle[0] == finalState1):\n",
    "      print('Encontrado após: '+str(passos - 1) + ' Iterações')\n",
    "      break\n",
    "    else:\n",
    "      if(puzzle[1]!=\"baixo\"):\n",
    "        puzzleCopia = copy.deepcopy(puzzle[0])\n",
    "        movimento = play(puzzleCopia, \"cima\")\n",
    "        \n",
    "        if(movimento!=puzzle[0]):\n",
    "          items.insert(0, [movimento,\"cima\"])\n",
    "          \n",
    "      if(puzzle[1]!=\"direita\"):\n",
    "        puzzleCopia = copy.deepcopy(puzzle[0])\n",
    "        movimento = play(puzzleCopia, \"esquerda\")\n",
    "        \n",
    "        if(movimento != puzzle[0]):\n",
    "          items.insert(0, [movimento,\"esquerda\"])\n",
    "          \n",
    "      if(puzzle[1]!=\"cima\"):\n",
    "        puzzleCopia = copy.deepcopy(puzzle[0])\n",
    "        movimento = play(puzzleCopia, \"baixo\")\n",
    "        \n",
    "        if(movimento != puzzle[0]):\n",
    "          items.insert(0, [movimento,\"baixo\"])\n",
    "          \n",
    "      if(puzzle[1]!=\"esquerda\"):\n",
    "        puzzleCopia = copy.deepcopy(puzzle[0])\n",
    "        movimento = play(puzzleCopia, \"direita\")\n",
    "        \n",
    "        if(movimento != puzzle[0]):\n",
    "          items.insert(0, [movimento,\"direita\"])\n",
    "buscaProfundidade()\n",
    "t1 = time.time()\n",
    "print('Tempo decorrido:', t1-t0)\n",
    "print('------')\n"
   ]
  },
  {
   "cell_type": "code",
   "execution_count": null,
   "metadata": {},
   "outputs": [],
   "source": []
  }
 ],
 "metadata": {
  "kernelspec": {
   "display_name": "Python 3",
   "language": "python",
   "name": "python3"
  },
  "language_info": {
   "codemirror_mode": {
    "name": "ipython",
    "version": 3
   },
   "file_extension": ".py",
   "mimetype": "text/x-python",
   "name": "python",
   "nbconvert_exporter": "python",
   "pygments_lexer": "ipython3",
   "version": "3.8.5"
  }
 },
 "nbformat": 4,
 "nbformat_minor": 4
}
