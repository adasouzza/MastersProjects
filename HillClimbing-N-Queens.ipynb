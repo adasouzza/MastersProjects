{
 "cells": [
  {
   "cell_type": "markdown",
   "metadata": {},
   "source": [
    "## HILL CLIMBING"
   ]
  },
  {
   "cell_type": "code",
   "execution_count": 1,
   "metadata": {},
   "outputs": [],
   "source": [
    "import numpy as np"
   ]
  },
  {
   "cell_type": "markdown",
   "metadata": {},
   "source": [
    "#### Função Estado Inicial \n",
    "\n",
    "* Gerando matriz de dimensão NxN onde N é o número de rainhas e atribuindo uma posição para cada rainha."
   ]
  },
  {
   "cell_type": "code",
   "execution_count": 2,
   "metadata": {},
   "outputs": [],
   "source": [
    "def estadoInicial(numRainhas):\n",
    "    \n",
    "    tabuleiro = np.zeros((numRainhas, numRainhas), \n",
    "                         dtype=np.int)\n",
    "    \n",
    "    for i in range(numRainhas):\n",
    "        posicaoAleatoria = np.random.randint(numRainhas)\n",
    "        tabuleiro[posicaoAleatoria, i] = 1\n",
    "        \n",
    "    return tabuleiro"
   ]
  },
  {
   "cell_type": "markdown",
   "metadata": {},
   "source": [
    "#### Função Diagonal\n",
    "* Função para percorrer diagonais da matriz do tabuleiro"
   ]
  },
  {
   "cell_type": "code",
   "execution_count": 3,
   "metadata": {},
   "outputs": [],
   "source": [
    "def funcaoDiagonal(dimensao, valor, tipo='P'):\n",
    "    \n",
    "    linhas = []; colunas = []\n",
    "    sinal  = 1 if tipo == 'P' else -1\n",
    "    \n",
    "    for i in range(dimensao):\n",
    "        for j in range(dimensao):\n",
    "            if i + j*sinal == valor:\n",
    "                linhas.append(i)\n",
    "                colunas.append(j)\n",
    "                \n",
    "    return linhas, colunas"
   ]
  },
  {
   "cell_type": "markdown",
   "metadata": {},
   "source": [
    "#### Função Ataque Linhas\n",
    "* Função para calcular o número total de ataques nas linhas do tabuleiro"
   ]
  },
  {
   "cell_type": "code",
   "execution_count": 4,
   "metadata": {},
   "outputs": [],
   "source": [
    "def ataqueLinha(tabuleiro, dimensao, ataques=0):\n",
    "    \n",
    "    for linha in range(dimensao):\n",
    "        numRainhas = np.count_nonzero(tabuleiro[linha, :])\n",
    "        ataques += numRainhas - 1 if numRainhas > 1 else 0\n",
    "    \n",
    "    return ataques"
   ]
  },
  {
   "cell_type": "markdown",
   "metadata": {},
   "source": [
    "#### Função Ataque Diagonal Primária\n",
    "* Sabendo que LINHA + COLUNA resultam em constantes para uma determinada diagonal primária teremos: \n",
    "* 1 a 2N -3, onde N é parte da dimensão NxN da matriz (tabuleiro)"
   ]
  },
  {
   "cell_type": "code",
   "execution_count": 5,
   "metadata": {},
   "outputs": [],
   "source": [
    "def ataqueDiagonalPrimaria(tabuleiro, dimensao, ataques=0):\n",
    "    \n",
    "    for valorDiagonal in range(1, 2*dimensao-3):\n",
    "        linhas, colunas = funcaoDiagonal(dimensao, valorDiagonal)\n",
    "        numRainhas = np.count_nonzero(tabuleiro[linhas, colunas])\n",
    "        ataques += numRainhas - 1 if numRainhas > 1 else 0\n",
    "        \n",
    "    return ataques"
   ]
  },
  {
   "cell_type": "markdown",
   "metadata": {},
   "source": [
    "#### Ataque Diagonal Secundária\n",
    "* Sabendo que LINHA - COLUNA resultam em constantes para uma determinada diagonal secundária teremos: \n",
    "* -N+2 a N-1, onde N é parte da dimensão NxN da matriz (tabuleiro)"
   ]
  },
  {
   "cell_type": "code",
   "execution_count": 6,
   "metadata": {},
   "outputs": [],
   "source": [
    "def ataqueDiagonalSecundaria(tabuleiro, dimensao, ataques=0):\n",
    "    \n",
    "    for valorDiagonal in range(-dimensao+2, dimensao-1):\n",
    "        linhas, colunas = funcaoDiagonal(dimensao, valorDiagonal, tipo='S')\n",
    "        numRainhas = np.count_nonzero(tabuleiro[linhas, colunas])\n",
    "        ataques += numRainhas - 1 if numRainhas > 1 else 0\n",
    "        \n",
    "    return ataques"
   ]
  },
  {
   "cell_type": "markdown",
   "metadata": {},
   "source": [
    "#### Função Custo\n",
    "* Função para calcular o número total de pares de damas em ataque com base nas funções de ataque acima"
   ]
  },
  {
   "cell_type": "code",
   "execution_count": 16,
   "metadata": {},
   "outputs": [],
   "source": [
    "def funcaoCusto(tabuleiro):\n",
    "\n",
    "    dimensao = tabuleiro.shape[0]\n",
    "    \n",
    "    ataques  = ataqueLinha(tabuleiro, dimensao)\n",
    "    ataques += ataqueDiagonalPrimaria(tabuleiro, dimensao)\n",
    "    ataques += ataqueDiagonalSecundaria(tabuleiro, dimensao)\n",
    "     \n",
    "    return ataques\n"
   ]
  },
  {
   "cell_type": "markdown",
   "metadata": {},
   "source": [
    "#### Função Matriz de Custo\n",
    "* Utilizando a função anterior, é possível chegar na matriz de custo. Ou seja, calcularmos os custos para todos os movimentos possíveis das rainhas em suas colunas do tabuleiro."
   ]
  },
  {
   "cell_type": "code",
   "execution_count": 17,
   "metadata": {},
   "outputs": [],
   "source": [
    "def gerarmatrizCusto(tabuleiro):\n",
    "\n",
    "    dimensao = tabuleiro.shape[0]\n",
    "    custos   = []\n",
    "\n",
    "    for coluna in range(dimensao):\n",
    "        posicaoInicialRainha = tabuleiro[:, coluna].argmax()\n",
    "        tabuleiro[:, coluna] = 0\n",
    "        \n",
    "        for linha in range(dimensao):\n",
    "            tabuleiro[linha, coluna] = 1\n",
    "            custos.append(funcaoCusto(tabuleiro))\n",
    "            tabuleiro[linha, coluna] = 0\n",
    "            \n",
    "        tabuleiro[posicaoInicialRainha, coluna] = 1\n",
    "        \n",
    "    return np.array(custos).reshape((dimensao, dimensao)).T"
   ]
  },
  {
   "cell_type": "markdown",
   "metadata": {},
   "source": [
    "### Funções de Mutação (Melhor Vizinho)\n",
    "* Funções para tentativa de alcançar a função ótima, utilizando a lógica de \"melhor vizinho\" "
   ]
  },
  {
   "cell_type": "code",
   "execution_count": 18,
   "metadata": {},
   "outputs": [],
   "source": [
    "# POSIÇÕES DAS RAINHAS\n",
    "def gerarPosicaoRainhas(tabuleiro):\n",
    "    \n",
    "    linhas, colunas = np.where(tabuleiro == 1)\n",
    "    return set(zip(linhas, colunas))\n"
   ]
  },
  {
   "cell_type": "code",
   "execution_count": 20,
   "metadata": {},
   "outputs": [],
   "source": [
    "# POSIÇÕES SEM RAINHAS\n",
    "def gerarPosicaoAleatoria(tabuleiro):\n",
    "    \n",
    "    linhas, colunas = np.where(tabuleiro == 0)\n",
    "    return list(zip(linhas, colunas))\n"
   ]
  },
  {
   "cell_type": "code",
   "execution_count": 21,
   "metadata": {},
   "outputs": [],
   "source": [
    "# POSSÍVEIS MOVIMENTOS NO TABULEIRO  \n",
    "def gerarMovimentos(matrizCusto):\n",
    "    \n",
    "    linhas, colunas = np.where(matrizCusto == np.min(matrizCusto))\n",
    "    return set(zip(linhas, colunas))"
   ]
  },
  {
   "cell_type": "code",
   "execution_count": 22,
   "metadata": {},
   "outputs": [],
   "source": [
    "# ITERAÇÕES DE MUDANÇA DE ESTADO NO TABULEIRO \n",
    "def mudarDeEstado(tabuleiro):\n",
    "\n",
    "    dimensao = tabuleiro.shape[0]\n",
    "    \n",
    "    posicaoRainhas = gerarPosicaoRainhas(tabuleiro)\n",
    "    matrizCusto  = gerarmatrizCusto(tabuleiro)\n",
    "    possibilidades = gerarMovimentos(matrizCusto)\n",
    "    \n",
    "    if (possibilidades - posicaoRainhas) == set():\n",
    "        print('\\nSHOW! Temos um Mínimo Local!\\n')\n",
    "        movimentos = gerarPosicaoAleatoria(tabuleiro)\n",
    "        \n",
    "    else:\n",
    "        movimentos = list(possibilidades - posicaoRainhas)\n",
    "        \n",
    "    aleatorio  = np.random.randint(len(movimentos))\n",
    "    movimento  = movimentos[aleatorio]\n",
    "\n",
    "    tabuleiro[:, movimento[1]] = 0\n",
    "    tabuleiro[movimento]       = 1\n",
    "    \n",
    "    print('\\nMatriz de Custo') \n",
    "    print(matrizCusto.view())\n",
    "    \n",
    "    return tabuleiro\n"
   ]
  },
  {
   "cell_type": "markdown",
   "metadata": {},
   "source": [
    "### Algoritmo de Hill Clumbing"
   ]
  },
  {
   "cell_type": "code",
   "execution_count": 23,
   "metadata": {},
   "outputs": [],
   "source": [
    "def hillClimbing(numRainhas):\n",
    "    \n",
    "    tabuleiro = estadoInicial(numRainhas)\n",
    "    \n",
    "    print('\\nEstado Inicial') \n",
    "    print(tabuleiro.view())\n",
    "    \n",
    "    movimentos = 0\n",
    "    while(funcaoCusto(tabuleiro)):\n",
    "        tabuleiro = mudarDeEstado(tabuleiro)\n",
    "        movimentos += 1\n",
    "        \n",
    "        print('\\nMelhor Vizinho # %d' % movimentos) \n",
    "        print(tabuleiro.view())\n",
    "        \n",
    "        \n",
    "    print('\\nCusto:', funcaoCusto(tabuleiro))\n",
    "    print('Total Movimentos: %d\\n' % movimentos)"
   ]
  },
  {
   "cell_type": "code",
   "execution_count": 15,
   "metadata": {
    "scrolled": false
   },
   "outputs": [
    {
     "name": "stdout",
     "output_type": "stream",
     "text": [
      "\n",
      "Estado Inicial\n",
      "[[0 0 0 0 1 0 0 0]\n",
      " [0 0 0 0 0 1 0 0]\n",
      " [0 0 0 0 0 0 0 0]\n",
      " [0 0 0 0 0 0 0 1]\n",
      " [0 0 0 0 0 0 0 0]\n",
      " [0 0 0 0 0 0 0 0]\n",
      " [1 1 0 1 0 0 1 0]\n",
      " [0 0 1 0 0 0 0 0]]\n",
      "\n",
      "Matriz de Custo\n",
      "[[8 7 7 7 8 7 9 9]\n",
      " [7 8 7 8 8 8 9 8]\n",
      " [6 6 8 6 8 7 8 8]\n",
      " [8 8 7 9 9 7 9 8]\n",
      " [7 7 7 7 8 7 8 7]\n",
      " [7 7 8 6 8 8 7 8]\n",
      " [8 8 7 8 9 7 8 8]\n",
      " [8 8 8 8 9 8 8 9]]\n",
      "\n",
      "Melhor Vizinho # 1\n",
      "[[0 0 0 0 1 0 0 0]\n",
      " [0 0 0 0 0 1 0 0]\n",
      " [0 0 0 1 0 0 0 0]\n",
      " [0 0 0 0 0 0 0 1]\n",
      " [0 0 0 0 0 0 0 0]\n",
      " [0 0 0 0 0 0 0 0]\n",
      " [1 1 0 0 0 0 1 0]\n",
      " [0 0 1 0 0 0 0 0]]\n",
      "\n",
      "Matriz de Custo\n",
      "[[6 6 6 7 6 6 7 7]\n",
      " [5 6 7 8 7 6 7 6]\n",
      " [5 5 8 6 7 6 7 7]\n",
      " [5 6 7 9 8 5 7 6]\n",
      " [5 5 6 7 6 6 6 5]\n",
      " [6 5 6 6 6 6 6 6]\n",
      " [6 6 6 8 7 5 6 7]\n",
      " [6 6 6 8 6 6 6 7]]\n",
      "\n",
      "Melhor Vizinho # 2\n",
      "[[0 0 0 0 1 0 0 0]\n",
      " [0 0 0 0 0 0 0 0]\n",
      " [0 0 0 1 0 0 0 0]\n",
      " [0 0 0 0 0 0 0 1]\n",
      " [0 0 0 0 0 0 0 0]\n",
      " [0 0 0 0 0 0 0 0]\n",
      " [1 1 0 0 0 1 1 0]\n",
      " [0 0 1 0 0 0 0 0]]\n",
      "\n",
      "Matriz de Custo\n",
      "[[6 5 5 6 5 6 6 6]\n",
      " [5 4 5 6 5 6 5 4]\n",
      " [5 5 7 5 6 6 6 6]\n",
      " [5 5 7 8 7 5 6 5]\n",
      " [5 4 5 7 5 6 5 5]\n",
      " [6 4 5 5 6 6 6 5]\n",
      " [5 5 5 7 6 5 5 6]\n",
      " [6 5 5 7 6 6 6 6]]\n",
      "\n",
      "Melhor Vizinho # 3\n",
      "[[0 0 0 0 1 0 0 0]\n",
      " [0 0 0 0 0 0 0 0]\n",
      " [0 0 0 1 0 0 0 0]\n",
      " [0 0 0 0 0 0 0 1]\n",
      " [0 0 0 0 0 0 0 0]\n",
      " [0 1 0 0 0 0 0 0]\n",
      " [1 0 0 0 0 1 1 0]\n",
      " [0 0 1 0 0 0 0 0]]\n",
      "\n",
      "Matriz de Custo\n",
      "[[4 5 5 5 4 5 5 4]\n",
      " [3 4 5 5 4 5 3 3]\n",
      " [3 5 7 4 5 4 5 5]\n",
      " [3 5 7 7 5 4 5 4]\n",
      " [4 4 5 5 4 5 4 4]\n",
      " [5 4 5 5 6 6 6 5]\n",
      " [4 5 6 6 5 4 4 5]\n",
      " [3 5 4 7 5 5 5 5]]\n",
      "\n",
      "Melhor Vizinho # 4\n",
      "[[0 0 0 0 1 0 0 0]\n",
      " [1 0 0 0 0 0 0 0]\n",
      " [0 0 0 1 0 0 0 0]\n",
      " [0 0 0 0 0 0 0 1]\n",
      " [0 0 0 0 0 0 0 0]\n",
      " [0 1 0 0 0 0 0 0]\n",
      " [0 0 0 0 0 1 1 0]\n",
      " [0 0 1 0 0 0 0 0]]\n",
      "\n",
      "Matriz de Custo\n",
      "[[4 6 4 4 3 3 4 3]\n",
      " [3 5 5 5 4 4 3 3]\n",
      " [3 5 6 3 4 2 4 4]\n",
      " [3 5 6 6 4 2 4 3]\n",
      " [4 4 4 4 3 3 3 3]\n",
      " [5 3 4 4 5 4 5 4]\n",
      " [4 5 5 5 4 3 3 4]\n",
      " [3 4 3 6 4 3 4 4]]\n",
      "\n",
      "Melhor Vizinho # 5\n",
      "[[0 0 0 0 1 0 0 0]\n",
      " [1 0 0 0 0 0 0 0]\n",
      " [0 0 0 1 0 0 0 0]\n",
      " [0 0 0 0 0 1 0 1]\n",
      " [0 0 0 0 0 0 0 0]\n",
      " [0 1 0 0 0 0 0 0]\n",
      " [0 0 0 0 0 0 1 0]\n",
      " [0 0 1 0 0 0 0 0]]\n",
      "\n",
      "Matriz de Custo\n",
      "[[4 5 4 3 2 3 4 1]\n",
      " [2 4 4 5 3 4 3 2]\n",
      " [3 4 5 2 4 2 5 2]\n",
      " [3 4 5 5 3 2 4 2]\n",
      " [4 3 3 3 3 3 4 0]\n",
      " [5 2 3 4 4 4 4 3]\n",
      " [4 4 5 4 3 3 2 2]\n",
      " [3 4 2 5 2 3 4 2]]\n",
      "\n",
      "Melhor Vizinho # 6\n",
      "[[0 0 0 0 1 0 0 0]\n",
      " [1 0 0 0 0 0 0 0]\n",
      " [0 0 0 1 0 0 0 0]\n",
      " [0 0 0 0 0 1 0 0]\n",
      " [0 0 0 0 0 0 0 1]\n",
      " [0 1 0 0 0 0 0 0]\n",
      " [0 0 0 0 0 0 1 0]\n",
      " [0 0 1 0 0 0 0 0]]\n",
      "\n",
      "Custo: 0\n",
      "Total Movimentos: 6\n",
      "\n",
      "Wall time: 402 ms\n"
     ]
    }
   ],
   "source": [
    "%time hillClimbing(numRainhas=8)"
   ]
  },
  {
   "cell_type": "code",
   "execution_count": null,
   "metadata": {},
   "outputs": [],
   "source": []
  }
 ],
 "metadata": {
  "kernelspec": {
   "display_name": "Python 3",
   "language": "python",
   "name": "python3"
  },
  "language_info": {
   "codemirror_mode": {
    "name": "ipython",
    "version": 3
   },
   "file_extension": ".py",
   "mimetype": "text/x-python",
   "name": "python",
   "nbconvert_exporter": "python",
   "pygments_lexer": "ipython3",
   "version": "3.8.5"
  }
 },
 "nbformat": 4,
 "nbformat_minor": 2
}
